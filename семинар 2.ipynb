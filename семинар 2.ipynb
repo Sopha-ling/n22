{
 "cells": [
  {
   "cell_type": "markdown",
   "id": "fc49968b",
   "metadata": {},
   "source": [
    "Задача 1"
   ]
  },
  {
   "cell_type": "markdown",
   "id": "85d96c67",
   "metadata": {},
   "source": [
    "Построить поле из 0 размерностью 10х10. Тигр будет обозначаться 1 и стартовать из левого верхнего угла. В координатах (3,5)(4,5)(5,5)(6,5) находятся враги тигра - их необходимо обойти (можно обозначить врагов цифрой 3). В координатах (7,9)(8,9)(9,9) находятся зайцы (обозначаются цифрой 2). Тигру необходимо дойти до зайцев, съесть 1 и вернуться назад, в начальную точку. Тигра, зайцев и врагов выполнить в виде классов, аналогично заданию 1 с семинара 1."
   ]
  },
  {
   "cell_type": "markdown",
   "id": "75140610",
   "metadata": {},
   "source": [
    "Задача 2"
   ]
  },
  {
   "cell_type": "markdown",
   "id": "0015eea4",
   "metadata": {},
   "source": [
    "Выполнять действия тигром на основе базового уравнения Q-learning. https://habr.com/ru/post/443240/ "
   ]
  },
  {
   "cell_type": "code",
   "execution_count": null,
   "id": "95863237",
   "metadata": {},
   "outputs": [],
   "source": []
  }
 ],
 "metadata": {
  "kernelspec": {
   "display_name": "Python 3",
   "language": "python",
   "name": "python3"
  },
  "language_info": {
   "codemirror_mode": {
    "name": "ipython",
    "version": 3
   },
   "file_extension": ".py",
   "mimetype": "text/x-python",
   "name": "python",
   "nbconvert_exporter": "python",
   "pygments_lexer": "ipython3",
   "version": "3.8.8"
  }
 },
 "nbformat": 4,
 "nbformat_minor": 5
}
